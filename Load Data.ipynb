{
 "cells": [
  {
   "cell_type": "code",
   "execution_count": 154,
   "metadata": {},
   "outputs": [],
   "source": [
    "import pandas as pd\n",
    "import numpy as np\n",
    "import matplotlib.pyplot as plt\n",
    "import seaborn as sns"
   ]
  },
  {
   "cell_type": "code",
   "execution_count": 155,
   "metadata": {},
   "outputs": [],
   "source": [
    "ex_filepath = 'DATA/generation_monthly.xlsx'\n",
    "excel_data = pd.read_excel(ex_filepath,sheet_name = None, \n",
    "                            names = [\"YEAR\", \"MONTH\", \"STATE\", \"TYPE OF PRODUCER\", \"ENERGY SOURCE\", \"GENERATION (Megawatthours)\"])\n",
    "raw_df = pd.concat(excel_data.values(), keys=excel_data.keys(), ignore_index=True)"
   ]
  },
  {
   "cell_type": "code",
   "execution_count": 156,
   "metadata": {},
   "outputs": [
    {
     "data": {
      "text/plain": [
       "(530838, 6)"
      ]
     },
     "execution_count": 156,
     "metadata": {},
     "output_type": "execute_result"
    }
   ],
   "source": [
    "raw_df = pd.concat(excel_data.values(), keys=excel_data.keys(), ignore_index=True)\n",
    "raw_df.shape\n"
   ]
  },
  {
   "cell_type": "code",
   "execution_count": 168,
   "metadata": {},
   "outputs": [
    {
     "data": {
      "text/plain": [
       "0"
      ]
     },
     "execution_count": 168,
     "metadata": {},
     "output_type": "execute_result"
    }
   ],
   "source": [
    "invalid_rows = raw_df[raw_df['YEAR'].str.isnumeric() == False]\n",
    "df = raw_df.drop(invalid_rows.index).dropna()\n",
    "df.duplicated().sum()\n",
    "\n"
   ]
  },
  {
   "cell_type": "code",
   "execution_count": 179,
   "metadata": {},
   "outputs": [],
   "source": [
    "rows_with_header_value = df[df['TYPE OF PRODUCER'] == 'ENERGY SOURCE']\n"
   ]
  },
  {
   "cell_type": "code",
   "execution_count": 180,
   "metadata": {},
   "outputs": [
    {
     "data": {
      "text/html": [
       "<div>\n",
       "<style scoped>\n",
       "    .dataframe tbody tr th:only-of-type {\n",
       "        vertical-align: middle;\n",
       "    }\n",
       "\n",
       "    .dataframe tbody tr th {\n",
       "        vertical-align: top;\n",
       "    }\n",
       "\n",
       "    .dataframe thead th {\n",
       "        text-align: right;\n",
       "    }\n",
       "</style>\n",
       "<table border=\"1\" class=\"dataframe\">\n",
       "  <thead>\n",
       "    <tr style=\"text-align: right;\">\n",
       "      <th></th>\n",
       "      <th>YEAR</th>\n",
       "      <th>MONTH</th>\n",
       "      <th>STATE</th>\n",
       "      <th>TYPE OF PRODUCER</th>\n",
       "      <th>ENERGY SOURCE</th>\n",
       "      <th>GENERATION (Megawatthours)</th>\n",
       "      <th>DATE</th>\n",
       "    </tr>\n",
       "  </thead>\n",
       "  <tbody>\n",
       "  </tbody>\n",
       "</table>\n",
       "</div>"
      ],
      "text/plain": [
       "Empty DataFrame\n",
       "Columns: [YEAR, MONTH, STATE, TYPE OF PRODUCER, ENERGY SOURCE, GENERATION (Megawatthours), DATE]\n",
       "Index: []"
      ]
     },
     "execution_count": 180,
     "metadata": {},
     "output_type": "execute_result"
    }
   ],
   "source": [
    "rows_with_header_value"
   ]
  },
  {
   "cell_type": "code",
   "execution_count": 169,
   "metadata": {},
   "outputs": [
    {
     "data": {
      "text/plain": [
       "YEAR                            int64\n",
       "MONTH                           int64\n",
       "STATE                          object\n",
       "TYPE OF PRODUCER               object\n",
       "ENERGY SOURCE                  object\n",
       "GENERATION (Megawatthours)    float64\n",
       "dtype: object"
      ]
     },
     "execution_count": 169,
     "metadata": {},
     "output_type": "execute_result"
    }
   ],
   "source": [
    "df = df.infer_objects()\n",
    "df.dtypes\n"
   ]
  },
  {
   "cell_type": "code",
   "execution_count": 174,
   "metadata": {},
   "outputs": [
    {
     "data": {
      "text/html": [
       "<div>\n",
       "<style scoped>\n",
       "    .dataframe tbody tr th:only-of-type {\n",
       "        vertical-align: middle;\n",
       "    }\n",
       "\n",
       "    .dataframe tbody tr th {\n",
       "        vertical-align: top;\n",
       "    }\n",
       "\n",
       "    .dataframe thead th {\n",
       "        text-align: right;\n",
       "    }\n",
       "</style>\n",
       "<table border=\"1\" class=\"dataframe\">\n",
       "  <thead>\n",
       "    <tr style=\"text-align: right;\">\n",
       "      <th></th>\n",
       "      <th>YEAR</th>\n",
       "      <th>MONTH</th>\n",
       "      <th>STATE</th>\n",
       "      <th>TYPE OF PRODUCER</th>\n",
       "      <th>ENERGY SOURCE</th>\n",
       "      <th>GENERATION (Megawatthours)</th>\n",
       "    </tr>\n",
       "    <tr>\n",
       "      <th>DATE</th>\n",
       "      <th></th>\n",
       "      <th></th>\n",
       "      <th></th>\n",
       "      <th></th>\n",
       "      <th></th>\n",
       "      <th></th>\n",
       "    </tr>\n",
       "  </thead>\n",
       "  <tbody>\n",
       "    <tr>\n",
       "      <th>2001-01-01</th>\n",
       "      <td>2001</td>\n",
       "      <td>1</td>\n",
       "      <td>AK</td>\n",
       "      <td>Total Electric Power Industry</td>\n",
       "      <td>Coal</td>\n",
       "      <td>46903.0</td>\n",
       "    </tr>\n",
       "    <tr>\n",
       "      <th>2001-01-01</th>\n",
       "      <td>2001</td>\n",
       "      <td>1</td>\n",
       "      <td>AK</td>\n",
       "      <td>Total Electric Power Industry</td>\n",
       "      <td>Petroleum</td>\n",
       "      <td>71085.0</td>\n",
       "    </tr>\n",
       "    <tr>\n",
       "      <th>2001-01-01</th>\n",
       "      <td>2001</td>\n",
       "      <td>1</td>\n",
       "      <td>AK</td>\n",
       "      <td>Total Electric Power Industry</td>\n",
       "      <td>Natural Gas</td>\n",
       "      <td>367521.0</td>\n",
       "    </tr>\n",
       "    <tr>\n",
       "      <th>2001-01-01</th>\n",
       "      <td>2001</td>\n",
       "      <td>1</td>\n",
       "      <td>AK</td>\n",
       "      <td>Total Electric Power Industry</td>\n",
       "      <td>Hydroelectric Conventional</td>\n",
       "      <td>104549.0</td>\n",
       "    </tr>\n",
       "    <tr>\n",
       "      <th>2001-01-01</th>\n",
       "      <td>2001</td>\n",
       "      <td>1</td>\n",
       "      <td>AK</td>\n",
       "      <td>Total Electric Power Industry</td>\n",
       "      <td>Wind</td>\n",
       "      <td>87.0</td>\n",
       "    </tr>\n",
       "    <tr>\n",
       "      <th>...</th>\n",
       "      <td>...</td>\n",
       "      <td>...</td>\n",
       "      <td>...</td>\n",
       "      <td>...</td>\n",
       "      <td>...</td>\n",
       "      <td>...</td>\n",
       "    </tr>\n",
       "    <tr>\n",
       "      <th>2023-09-01</th>\n",
       "      <td>2023</td>\n",
       "      <td>9</td>\n",
       "      <td>WY</td>\n",
       "      <td>Electric Generators, Electric Utilities</td>\n",
       "      <td>Coal</td>\n",
       "      <td>2635451.0</td>\n",
       "    </tr>\n",
       "    <tr>\n",
       "      <th>2023-09-01</th>\n",
       "      <td>2023</td>\n",
       "      <td>9</td>\n",
       "      <td>WY</td>\n",
       "      <td>Electric Generators, Electric Utilities</td>\n",
       "      <td>Hydroelectric Conventional</td>\n",
       "      <td>39490.0</td>\n",
       "    </tr>\n",
       "    <tr>\n",
       "      <th>2023-09-01</th>\n",
       "      <td>2023</td>\n",
       "      <td>9</td>\n",
       "      <td>WY</td>\n",
       "      <td>Electric Generators, Electric Utilities</td>\n",
       "      <td>Natural Gas</td>\n",
       "      <td>95639.0</td>\n",
       "    </tr>\n",
       "    <tr>\n",
       "      <th>2023-09-01</th>\n",
       "      <td>2023</td>\n",
       "      <td>9</td>\n",
       "      <td>WY</td>\n",
       "      <td>Electric Generators, Electric Utilities</td>\n",
       "      <td>Petroleum</td>\n",
       "      <td>3779.0</td>\n",
       "    </tr>\n",
       "    <tr>\n",
       "      <th>2023-09-01</th>\n",
       "      <td>2023</td>\n",
       "      <td>9</td>\n",
       "      <td>WY</td>\n",
       "      <td>Electric Generators, Electric Utilities</td>\n",
       "      <td>Wind</td>\n",
       "      <td>303960.0</td>\n",
       "    </tr>\n",
       "  </tbody>\n",
       "</table>\n",
       "<p>530790 rows × 6 columns</p>\n",
       "</div>"
      ],
      "text/plain": [
       "            YEAR  MONTH STATE                         TYPE OF PRODUCER  \\\n",
       "DATE                                                                     \n",
       "2001-01-01  2001      1    AK            Total Electric Power Industry   \n",
       "2001-01-01  2001      1    AK            Total Electric Power Industry   \n",
       "2001-01-01  2001      1    AK            Total Electric Power Industry   \n",
       "2001-01-01  2001      1    AK            Total Electric Power Industry   \n",
       "2001-01-01  2001      1    AK            Total Electric Power Industry   \n",
       "...          ...    ...   ...                                      ...   \n",
       "2023-09-01  2023      9    WY  Electric Generators, Electric Utilities   \n",
       "2023-09-01  2023      9    WY  Electric Generators, Electric Utilities   \n",
       "2023-09-01  2023      9    WY  Electric Generators, Electric Utilities   \n",
       "2023-09-01  2023      9    WY  Electric Generators, Electric Utilities   \n",
       "2023-09-01  2023      9    WY  Electric Generators, Electric Utilities   \n",
       "\n",
       "                         ENERGY SOURCE  GENERATION (Megawatthours)  \n",
       "DATE                                                                \n",
       "2001-01-01                        Coal                     46903.0  \n",
       "2001-01-01                   Petroleum                     71085.0  \n",
       "2001-01-01                 Natural Gas                    367521.0  \n",
       "2001-01-01  Hydroelectric Conventional                    104549.0  \n",
       "2001-01-01                        Wind                        87.0  \n",
       "...                                ...                         ...  \n",
       "2023-09-01                        Coal                   2635451.0  \n",
       "2023-09-01  Hydroelectric Conventional                     39490.0  \n",
       "2023-09-01                 Natural Gas                     95639.0  \n",
       "2023-09-01                   Petroleum                      3779.0  \n",
       "2023-09-01                        Wind                    303960.0  \n",
       "\n",
       "[530790 rows x 6 columns]"
      ]
     },
     "execution_count": 174,
     "metadata": {},
     "output_type": "execute_result"
    }
   ],
   "source": [
    "df['DATE'] = pd.to_datetime(df[['YEAR', 'MONTH']].assign(day=1))\n",
    "df.set_index('DATE')"
   ]
  },
  {
   "cell_type": "code",
   "execution_count": 175,
   "metadata": {},
   "outputs": [
    {
     "data": {
      "text/html": [
       "<div>\n",
       "<style scoped>\n",
       "    .dataframe tbody tr th:only-of-type {\n",
       "        vertical-align: middle;\n",
       "    }\n",
       "\n",
       "    .dataframe tbody tr th {\n",
       "        vertical-align: top;\n",
       "    }\n",
       "\n",
       "    .dataframe thead th {\n",
       "        text-align: right;\n",
       "    }\n",
       "</style>\n",
       "<table border=\"1\" class=\"dataframe\">\n",
       "  <thead>\n",
       "    <tr style=\"text-align: right;\">\n",
       "      <th></th>\n",
       "      <th>YEAR</th>\n",
       "      <th>MONTH</th>\n",
       "      <th>GENERATION (Megawatthours)</th>\n",
       "      <th>DATE</th>\n",
       "    </tr>\n",
       "  </thead>\n",
       "  <tbody>\n",
       "    <tr>\n",
       "      <th>count</th>\n",
       "      <td>530790.000000</td>\n",
       "      <td>530790.000000</td>\n",
       "      <td>5.307900e+05</td>\n",
       "      <td>530790</td>\n",
       "    </tr>\n",
       "    <tr>\n",
       "      <th>mean</th>\n",
       "      <td>2012.349144</td>\n",
       "      <td>6.451827</td>\n",
       "      <td>1.390318e+06</td>\n",
       "      <td>2012-10-20 03:10:36.170237184</td>\n",
       "    </tr>\n",
       "    <tr>\n",
       "      <th>min</th>\n",
       "      <td>2001.000000</td>\n",
       "      <td>1.000000</td>\n",
       "      <td>-9.978550e+05</td>\n",
       "      <td>2001-01-01 00:00:00</td>\n",
       "    </tr>\n",
       "    <tr>\n",
       "      <th>25%</th>\n",
       "      <td>2007.000000</td>\n",
       "      <td>3.000000</td>\n",
       "      <td>1.573685e+03</td>\n",
       "      <td>2007-04-01 00:00:00</td>\n",
       "    </tr>\n",
       "    <tr>\n",
       "      <th>50%</th>\n",
       "      <td>2013.000000</td>\n",
       "      <td>6.000000</td>\n",
       "      <td>2.291650e+04</td>\n",
       "      <td>2013-02-01 00:00:00</td>\n",
       "    </tr>\n",
       "    <tr>\n",
       "      <th>75%</th>\n",
       "      <td>2018.000000</td>\n",
       "      <td>9.000000</td>\n",
       "      <td>2.779502e+05</td>\n",
       "      <td>2018-07-01 00:00:00</td>\n",
       "    </tr>\n",
       "    <tr>\n",
       "      <th>max</th>\n",
       "      <td>2023.000000</td>\n",
       "      <td>12.000000</td>\n",
       "      <td>4.256113e+08</td>\n",
       "      <td>2023-09-01 00:00:00</td>\n",
       "    </tr>\n",
       "    <tr>\n",
       "      <th>std</th>\n",
       "      <td>6.539539</td>\n",
       "      <td>3.436390</td>\n",
       "      <td>1.078577e+07</td>\n",
       "      <td>NaN</td>\n",
       "    </tr>\n",
       "  </tbody>\n",
       "</table>\n",
       "</div>"
      ],
      "text/plain": [
       "                YEAR          MONTH  GENERATION (Megawatthours)  \\\n",
       "count  530790.000000  530790.000000                5.307900e+05   \n",
       "mean     2012.349144       6.451827                1.390318e+06   \n",
       "min      2001.000000       1.000000               -9.978550e+05   \n",
       "25%      2007.000000       3.000000                1.573685e+03   \n",
       "50%      2013.000000       6.000000                2.291650e+04   \n",
       "75%      2018.000000       9.000000                2.779502e+05   \n",
       "max      2023.000000      12.000000                4.256113e+08   \n",
       "std         6.539539       3.436390                1.078577e+07   \n",
       "\n",
       "                                DATE  \n",
       "count                         530790  \n",
       "mean   2012-10-20 03:10:36.170237184  \n",
       "min              2001-01-01 00:00:00  \n",
       "25%              2007-04-01 00:00:00  \n",
       "50%              2013-02-01 00:00:00  \n",
       "75%              2018-07-01 00:00:00  \n",
       "max              2023-09-01 00:00:00  \n",
       "std                              NaN  "
      ]
     },
     "execution_count": 175,
     "metadata": {},
     "output_type": "execute_result"
    }
   ],
   "source": [
    "df.describe()"
   ]
  },
  {
   "cell_type": "code",
   "execution_count": 176,
   "metadata": {},
   "outputs": [
    {
     "name": "stdout",
     "output_type": "stream",
     "text": [
      "YEAR\n",
      "MONTH\n",
      "STATE\n",
      "TYPE OF PRODUCER\n",
      "ENERGY SOURCE\n",
      "GENERATION (Megawatthours)\n",
      "DATE\n"
     ]
    }
   ],
   "source": [
    "headers_list = list(df.columns)\n",
    "for header in headers_list:\n",
    "    print(header)"
   ]
  },
  {
   "cell_type": "code",
   "execution_count": 162,
   "metadata": {},
   "outputs": [
    {
     "data": {
      "text/plain": [
       "array(['Total Electric Power Industry',\n",
       "       'Electric Generators, Electric Utilities',\n",
       "       'Combined Heat and Power, Electric Power',\n",
       "       'Combined Heat and Power, Commercial Power',\n",
       "       'Combined Heat and Power, Industrial Power',\n",
       "       'Electric Generators, Independent Power Producers', nan,\n",
       "       'TYPE OF PRODUCER'], dtype=object)"
      ]
     },
     "execution_count": 162,
     "metadata": {},
     "output_type": "execute_result"
    }
   ],
   "source": [
    "types_producer = df['TYPE OF PRODUCER'].unique()\n",
    "types_producer"
   ]
  },
  {
   "cell_type": "code",
   "execution_count": 163,
   "metadata": {},
   "outputs": [
    {
     "data": {
      "text/plain": [
       "array(['Coal', 'Petroleum', 'Natural Gas', 'Hydroelectric Conventional',\n",
       "       'Wind', 'Total', 'Other Gases', 'Nuclear',\n",
       "       'Wood and Wood Derived Fuels', 'Other Biomass', 'Other',\n",
       "       'Solar Thermal and Photovoltaic', 'Pumped Storage', 'Geothermal',\n",
       "       nan, 'ENERGY SOURCE'], dtype=object)"
      ]
     },
     "execution_count": 163,
     "metadata": {},
     "output_type": "execute_result"
    }
   ],
   "source": [
    "df['ENERGY SOURCE'].unique()\n",
    "#COULD BE A PROBELM LOOKS LIKE THE HEADER IS IN THE DATA TOO."
   ]
  }
 ],
 "metadata": {
  "kernelspec": {
   "display_name": "Python 3",
   "language": "python",
   "name": "python3"
  },
  "language_info": {
   "codemirror_mode": {
    "name": "ipython",
    "version": 3
   },
   "file_extension": ".py",
   "mimetype": "text/x-python",
   "name": "python",
   "nbconvert_exporter": "python",
   "pygments_lexer": "ipython3",
   "version": "3.11.7"
  }
 },
 "nbformat": 4,
 "nbformat_minor": 2
}
